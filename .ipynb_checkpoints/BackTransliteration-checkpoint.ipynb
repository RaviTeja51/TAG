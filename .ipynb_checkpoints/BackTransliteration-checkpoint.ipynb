{
 "cells": [
  {
   "cell_type": "markdown",
   "metadata": {},
   "source": [
    "# Transliteration of Sanskirt into Roman letters"
   ]
  },
  {
   "cell_type": "code",
   "execution_count": 1,
   "metadata": {},
   "outputs": [],
   "source": [
    "#\n",
    "# unicode source : https://unicode.org/charts/PDF/U0900.pdf\n",
    "#\n",
    "\n",
    "import re\n",
    "\n",
    "vowels = {\"\\u0905\":\"a\", \"\\u0906\":\"A\",\"\\u0907\":\"i\",\"\\u0908\":\"I\",\"\\u0909\":\"u\",\n",
    "         \"\\u090A\":\"U\",\"\\u090F\":\"e\",\"\\u0910\":\"ai\",\"\\u0913\":\"o\",\"\\u0914\":\"au\",\n",
    "         \"\\u090B\":\"R\",\"\\u0960\":\"RR\",\"\\u090C\":\"lR\",\"\\u0961\":\"lRR\"}\n",
    "\n",
    "consonants = {\"\\u0915\":\"ka\",\"\\u0916\":\"kha\",\"\\u0917\":\"ga\",\"\\u0918\":\"gha\",\"\\u0919\":\"G\",\n",
    "             \"\\u091A\":\"ca\",\"\\u091B\":\"cha\",\"\\u091C\":\"ja\",\"\\u091D\":\"jha\",\"\\u091E\":\"Ja\",\n",
    "             \"\\u091F\":\"Ta\",\"\\u0920\":\"Tha\",\"\\u0921\":\"Da\",\"\\u0922\":\"Dha\",\"\\u0923\":\"Na\",\n",
    "              \"\\u0924\":\"ta\",\"\\u0925\":\"tha\",\"\\u0926\":\"da\",\"\\u0927\":\"dha\",\"\\u0928\":\"na\",\n",
    "             \"\\u092A\":\"pa\",\"\\u092B\":\"pha\",\"\\u092C\":\"ba\",\"\\u092D\":\"bha\",\"\\u092E\":\"ma\",\n",
    "             \"\\u092F\":\"ya\",\"\\u0930\":\"ra\",\"\\u0931\":\"la\",\"\\u0932\":\"la\",\"\\u0935\":\"va\",\"\\u0936\":\"za\",\n",
    "             \"\\u0937\":\"Sa\",\"\\u0938\":\"sa\",\"\\u0939\":\"ha\"}\n",
    "\n",
    "vowel_signs = {\"\\u093E\":\"A\",\"\\u093F\":\"i\",\"\\u0940\":\"I\",\"\\u0941\":\"u\",\n",
    "                \"\\u0942\":\"U\",\"\\u0943\":\"R\",\"\\u0944\":\"RR\",\"\\u0947\":\"e\",\n",
    "               \"\\u0948\":\"ai\",\"\\u094B\":\"o\",\"\\u094C\":\"au\",\"\\u0962\":\"lR\",\n",
    "               \"\\u0963\":\"lRR\",\"\\u0902\":\"M\",\"\\u0903\":\"H\",\"\\u094F\":\"ॏ\"}\n",
    "\n",
    "special_char = {\"\\u0945\":\"ॅ\",\"\\u0946\":\"ॆ\",\"\\u0951\" :\"ऺ\",\"\\u0964\":\"।\",\n",
    "               \"\\u0965\":\"॥\",\"\\u093D\":\"'\"}\n",
    "\n",
    "numbers = {\"\\u0966\":\"1\",\"\\u0967\":\"2\",\"\\u0968\":\"3\",\"\\u096A\":\"4\",\"\\u096B\":\"5\",\n",
    "          \"\\u096C\":\"6\",\"\\u096D\":\"7\",\"\\u096E\":\"8\",\"\\u096F\":\"9\",}\n",
    "\n",
    "halant = \"\\u094D\""
   ]
  },
  {
   "cell_type": "code",
   "execution_count": 2,
   "metadata": {},
   "outputs": [],
   "source": [
    "# Sanskrit text used is Adiparvam from Mahabharata\n",
    "# Source : http://bombay.indology.info/mahabharata/welcome.html\n",
    "\n",
    "with open(\"Adiparvan.txt\") as f:\n",
    "    txt = f.readlines()\n",
    "\n",
    "comments = re.compile(r\"^%\")\n",
    "ascii_code = re.compile(r\"(^[0-9]+[a-zA-Z]*)\")\n",
    "\n"
   ]
  },
  {
   "cell_type": "code",
   "execution_count": 3,
   "metadata": {},
   "outputs": [],
   "source": [
    "\n",
    "with open(\"AdiparvanTransliterated.txt\",\"w\",encoding = \"utf-8\") as f:\n",
    "    for line in txt:\n",
    "        \n",
    "        if comments.match(line): #ignoring comments\n",
    "            f.write(line)\n",
    "            \n",
    "            \n",
    "        else:\n",
    "            sentence = ascii_code.sub(\"\",line) #removing ascii code\n",
    "            \n",
    "            \n",
    "            trans = []\n",
    "            line_length = len(sentence)\n",
    "            j = 0\n",
    "            while j < line_length:\n",
    "                c = sentence[j]\n",
    "                \n",
    "                if c in vowels:\n",
    "                    trans.append(vowels[c])\n",
    "                    \n",
    "                elif c in consonants:\n",
    "                    \n",
    "                    '''\n",
    "                       To prevent cases like\n",
    "                       नारायणं = naAraAyaNaM instead of nArAyaNaM\n",
    "                    '''\n",
    "                    if j+1 < line_length and sentence[j+1] not in  vowel_signs:\n",
    "                        trans.append(consonants[c])\n",
    "                    else:\n",
    "                        trans.append(consonants[c].strip(\"a\"))\n",
    "                    \n",
    "                elif c in vowel_signs:\n",
    "                    trans.append(vowel_signs[c])\n",
    "                    \n",
    "                elif c in special_char:\n",
    "                    trans.append(special_char[c])\n",
    "                    \n",
    "                elif c in numbers:\n",
    "                    trans.append(numbers[c])\n",
    "                    \n",
    "                elif c == halant:\n",
    "                    c = trans.pop()\n",
    "                    trans.append(c.strip(\"a\"))\n",
    "                    \n",
    "                else:\n",
    "                    trans.append(c)\n",
    "                j += 1\n",
    "            f.write(\"\".join(trans))\n",
    "                    \n",
    "                    \n",
    "            \n",
    "            "
   ]
  },
  {
   "cell_type": "code",
   "execution_count": null,
   "metadata": {},
   "outputs": [],
   "source": []
  },
  {
   "cell_type": "code",
   "execution_count": null,
   "metadata": {},
   "outputs": [],
   "source": []
  }
 ],
 "metadata": {
  "kernelspec": {
   "display_name": "Python 3",
   "language": "python",
   "name": "python3"
  },
  "language_info": {
   "codemirror_mode": {
    "name": "ipython",
    "version": 3
   },
   "file_extension": ".py",
   "mimetype": "text/x-python",
   "name": "python",
   "nbconvert_exporter": "python",
   "pygments_lexer": "ipython3",
   "version": "3.7.5"
  }
 },
 "nbformat": 4,
 "nbformat_minor": 2
}
